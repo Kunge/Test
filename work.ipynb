{
 "cells": [
  {
   "cell_type": "code",
   "execution_count": 134,
   "metadata": {},
   "outputs": [],
   "source": [
    "import pandas as pd\n",
    "import numpy as np\n",
    "import math\n",
    "import sklearn\n",
    "from sklearn.preprocessing import OneHotEncoder"
   ]
  },
  {
   "cell_type": "code",
   "execution_count": 181,
   "metadata": {},
   "outputs": [
    {
     "name": "stdout",
     "output_type": "stream",
     "text": [
      "['dim_is_requested', 'ds_night', 'ds', 'id_listing_anon', 'id_user_anon', 'm_effective_daily_price', 'm_pricing_cleaning_fee', 'dim_market', 'dim_lat', 'dim_lng', 'dim_room_type', 'dim_person_capacity', 'dim_is_instant_bookable', 'm_checkouts', 'm_reviews', 'days_since_last_booking', 'cancel_policy', 'image_quality_score', 'm_total_overall_rating', 'm_professional_pictures', 'dim_has_wireless_internet', 'ds_night_day_of_week', 'ds_night_day_of_year', 'ds_checkin_gap', 'ds_checkout_gap', 'occ_occupancy_plus_minus_7_ds_night', 'occ_occupancy_plus_minus_14_ds_night', 'occ_occupancy_trailing_90_ds', 'm_minimum_nights', 'm_maximum_nights', 'price_booked_most_recent', 'p2_p3_click_through_score', 'p3_inquiry_score', 'listing_m_listing_views_2_6_ds_night_decay', 'general_market_m_unique_searchers_0_6_ds_night', 'general_market_m_contacts_0_6_ds_night', 'general_market_m_reservation_requests_0_6_ds_night', 'general_market_m_is_booked_0_6_ds_night', 'm_available_listings_ds_night', 'kdt_score', 'r_kdt_listing_views_0_6_avg_n100', 'r_kdt_n_active_n100', 'r_kdt_n_available_n100', 'r_kdt_m_effective_daily_price_n100_p50', 'r_kdt_m_effective_daily_price_available_n100_p50', 'r_kdt_m_effective_daily_price_booked_n100_p50']\n"
     ]
    },
    {
     "name": "stderr",
     "output_type": "stream",
     "text": [
      "d:\\program files\\python\\lib\\site-packages\\sklearn\\utils\\validation.py:595: DataConversionWarning: Data with input dtype int64 was converted to float64 by the scale function.\n",
      "  warnings.warn(msg, DataConversionWarning)\n",
      "d:\\program files\\python\\lib\\site-packages\\ipykernel_launcher.py:33: RuntimeWarning: invalid value encountered in less\n",
      "d:\\program files\\python\\lib\\site-packages\\ipykernel_launcher.py:35: RuntimeWarning: invalid value encountered in greater\n",
      "d:\\program files\\python\\lib\\site-packages\\ipykernel_launcher.py:33: RuntimeWarning: invalid value encountered in less\n",
      "d:\\program files\\python\\lib\\site-packages\\ipykernel_launcher.py:35: RuntimeWarning: invalid value encountered in greater\n",
      "d:\\program files\\python\\lib\\site-packages\\ipykernel_launcher.py:33: RuntimeWarning: invalid value encountered in less\n",
      "d:\\program files\\python\\lib\\site-packages\\ipykernel_launcher.py:35: RuntimeWarning: invalid value encountered in greater\n",
      "d:\\program files\\python\\lib\\site-packages\\ipykernel_launcher.py:33: RuntimeWarning: invalid value encountered in less\n",
      "d:\\program files\\python\\lib\\site-packages\\ipykernel_launcher.py:35: RuntimeWarning: invalid value encountered in greater\n",
      "d:\\program files\\python\\lib\\site-packages\\ipykernel_launcher.py:33: RuntimeWarning: invalid value encountered in less\n",
      "d:\\program files\\python\\lib\\site-packages\\ipykernel_launcher.py:35: RuntimeWarning: invalid value encountered in greater\n",
      "d:\\program files\\python\\lib\\site-packages\\sklearn\\utils\\validation.py:595: DataConversionWarning: Data with input dtype int64 was converted to float64 by the scale function.\n",
      "  warnings.warn(msg, DataConversionWarning)\n",
      "d:\\program files\\python\\lib\\site-packages\\sklearn\\utils\\validation.py:595: DataConversionWarning: Data with input dtype int64 was converted to float64 by the scale function.\n",
      "  warnings.warn(msg, DataConversionWarning)\n",
      "d:\\program files\\python\\lib\\site-packages\\ipykernel_launcher.py:33: RuntimeWarning: invalid value encountered in less\n",
      "d:\\program files\\python\\lib\\site-packages\\ipykernel_launcher.py:35: RuntimeWarning: invalid value encountered in greater\n",
      "d:\\program files\\python\\lib\\site-packages\\ipykernel_launcher.py:33: RuntimeWarning: invalid value encountered in less\n",
      "d:\\program files\\python\\lib\\site-packages\\ipykernel_launcher.py:35: RuntimeWarning: invalid value encountered in greater\n",
      "d:\\program files\\python\\lib\\site-packages\\ipykernel_launcher.py:33: RuntimeWarning: invalid value encountered in less\n",
      "d:\\program files\\python\\lib\\site-packages\\ipykernel_launcher.py:35: RuntimeWarning: invalid value encountered in greater\n",
      "d:\\program files\\python\\lib\\site-packages\\ipykernel_launcher.py:33: RuntimeWarning: invalid value encountered in less\n",
      "d:\\program files\\python\\lib\\site-packages\\ipykernel_launcher.py:35: RuntimeWarning: invalid value encountered in greater\n",
      "d:\\program files\\python\\lib\\site-packages\\ipykernel_launcher.py:33: RuntimeWarning: invalid value encountered in less\n",
      "d:\\program files\\python\\lib\\site-packages\\ipykernel_launcher.py:35: RuntimeWarning: invalid value encountered in greater\n",
      "d:\\program files\\python\\lib\\site-packages\\ipykernel_launcher.py:33: RuntimeWarning: invalid value encountered in less\n",
      "d:\\program files\\python\\lib\\site-packages\\ipykernel_launcher.py:35: RuntimeWarning: invalid value encountered in greater\n",
      "d:\\program files\\python\\lib\\site-packages\\ipykernel_launcher.py:33: RuntimeWarning: invalid value encountered in less\n",
      "d:\\program files\\python\\lib\\site-packages\\ipykernel_launcher.py:35: RuntimeWarning: invalid value encountered in greater\n",
      "d:\\program files\\python\\lib\\site-packages\\ipykernel_launcher.py:33: RuntimeWarning: invalid value encountered in less\n",
      "d:\\program files\\python\\lib\\site-packages\\ipykernel_launcher.py:35: RuntimeWarning: invalid value encountered in greater\n",
      "d:\\program files\\python\\lib\\site-packages\\ipykernel_launcher.py:33: RuntimeWarning: invalid value encountered in less\n",
      "d:\\program files\\python\\lib\\site-packages\\ipykernel_launcher.py:35: RuntimeWarning: invalid value encountered in greater\n",
      "d:\\program files\\python\\lib\\site-packages\\ipykernel_launcher.py:33: RuntimeWarning: invalid value encountered in less\n",
      "d:\\program files\\python\\lib\\site-packages\\ipykernel_launcher.py:35: RuntimeWarning: invalid value encountered in greater\n",
      "d:\\program files\\python\\lib\\site-packages\\ipykernel_launcher.py:33: RuntimeWarning: invalid value encountered in less\n",
      "d:\\program files\\python\\lib\\site-packages\\ipykernel_launcher.py:35: RuntimeWarning: invalid value encountered in greater\n",
      "d:\\program files\\python\\lib\\site-packages\\sklearn\\utils\\validation.py:595: DataConversionWarning: Data with input dtype int64 was converted to float64 by the scale function.\n",
      "  warnings.warn(msg, DataConversionWarning)\n"
     ]
    }
   ],
   "source": [
    "#load data\n",
    "data = pd.read_csv('./data/TH_data_challenge.tsv',sep='\\t', header=0)\n",
    "#print the names of columns\n",
    "names = data.columns.values.tolist()\n",
    "print(names)\n",
    "#devide the features into different sets\n",
    "#for boolean value, 1 for true, 0 for flase\n",
    "#for real value feature, normalize the true value, then encode the feature into id\n",
    "#for string value feature, encode the string into id\n",
    "real_value_set = {'m_effective_daily_price','m_pricing_cleaning_fee','dim_lat','dim_lng','m_checkouts','m_reviews',\n",
    "                  'dim_person_capacity','image_quality_score','m_total_overall_rating','m_professional_pictures',\n",
    "                  'ds_night_day_of_week','ds_night_day_of_year','ds_checkin_gap','ds_checkout_gap',\n",
    "                  'occ_occupancy_plus_minus_7_ds_night','occ_occupancy_plus_minus_14_ds_night',\n",
    "                  'occ_occupancy_trailing_90_ds','m_minimum_nights','m_maximum_nights',\n",
    "                  'price_booked_most_recent', 'p2_p3_click_through_score', 'p3_inquiry_score', \n",
    "                  'listing_m_listing_views_2_6_ds_night_decay', 'general_market_m_unique_searchers_0_6_ds_night', \n",
    "                  'general_market_m_contacts_0_6_ds_night', 'general_market_m_reservation_requests_0_6_ds_night',\n",
    "                  'general_market_m_is_booked_0_6_ds_night', 'm_available_listings_ds_night',\n",
    "                  'days_since_last_bookin','dim_person_capacity'}\n",
    "id_value_set = {'id_listing_anon','id_user_anon','dim_market','dim_room_type','cancel_policy'}\n",
    "#parse label data\n",
    "data[names[0]] = data[names[0]].map(lambda x: 1.0 if x > 0.0 else 0.0 )\n",
    "y = data[names[0]]\n",
    "#for one hot encoding\n",
    "onehot_id = OneHotEncoder(n_values= 'auto',  \n",
    "                       dtype=np.float32, \n",
    "                       sparse=True, \n",
    "                       handle_unknown='error')\n",
    "X = None\n",
    "#encode the data\n",
    "#handle the NaN value\n",
    "for name in names[3:]:\n",
    "    if name in real_value_set:\n",
    "        #for real value, throw the outliers (5 std or more)\n",
    "        #encode the real value data into 10 buckets (could be improved)\n",
    "        feature_values = sklearn.preprocessing.scale(data[name])\n",
    "        select_idx = np.array(np.where( feature_values < mean-5*std)).reshape(-1)\n",
    "        feature_values[select_idx] = mean-5*std \n",
    "        select_idx = np.array(np.where( feature_values > mean+5*std)).reshape(-1)\n",
    "        feature_values[select_idx] = mean+5*std\n",
    "        feature_values = (feature_values-(mean-5*std))/std\n",
    "        data[name] = np.array([ str(int(x)+1) if  not math.isnan(x) else 0 for x in feature_values ])\n",
    "    else:\n",
    "        try:\n",
    "            new_feature_values =  onehot_id.fit_transform( data[name].values.reshape(-1,1) )\n",
    "        except ValueError as e:\n",
    "            data[name] = np.array([ str(int(x)+1) if  not math.isnan(x) else 0 for x in data[name].values ])\n",
    "X = onehot_id.fit_transform( data[names[3:]] )"
   ]
  },
  {
   "cell_type": "code",
   "execution_count": 203,
   "metadata": {},
   "outputs": [
    {
     "name": "stdout",
     "output_type": "stream",
     "text": [
      "(168694,)\n",
      "(15585,)\n"
     ]
    }
   ],
   "source": [
    "train_idx = np.array(np.where(data['ds_night']<'2015-12-01')).reshape(-1)\n",
    "test_idx = np.array(np.where(data['ds_night']>='2015-12-01')).reshape(-1)\n",
    "print(train_idx.shape)\n",
    "print(test_idx.shape)\n",
    "train_y = y[train_idx]\n",
    "train_x = X[train_idx]\n",
    "test_y = y[test_idx]\n",
    "test_x = X[test_idx]"
   ]
  },
  {
   "cell_type": "code",
   "execution_count": 205,
   "metadata": {},
   "outputs": [
    {
     "name": "stderr",
     "output_type": "stream",
     "text": [
      "d:\\program files\\python\\lib\\site-packages\\sklearn\\linear_model\\logistic.py:758: ConvergenceWarning: lbfgs failed to converge. Increase the number of iterations.\n",
      "  \"of iterations.\", ConvergenceWarning)\n"
     ]
    },
    {
     "data": {
      "text/plain": [
       "LogisticRegression(C=1.0, class_weight=None, dual=False, fit_intercept=True,\n",
       "          intercept_scaling=1, max_iter=1000, multi_class='ovr', n_jobs=1,\n",
       "          penalty='l2', random_state=None, solver='lbfgs', tol=0.0001,\n",
       "          verbose=0, warm_start=False)"
      ]
     },
     "execution_count": 205,
     "metadata": {},
     "output_type": "execute_result"
    }
   ],
   "source": [
    "#train a LR model as baseline\n",
    "from sklearn.linear_model import LogisticRegression\n",
    "model = LogisticRegression(C=1.0, class_weight=None, dual=False, fit_intercept=True,\n",
    "              intercept_scaling=1, max_iter=1000, multi_class='ovr', n_jobs=1,\n",
    "              penalty='l2', random_state=None, solver='lbfgs', tol=0.0001,\n",
    "              verbose=0, warm_start=False)\n",
    "model.fit(train_x,train_y)"
   ]
  },
  {
   "cell_type": "code",
   "execution_count": 207,
   "metadata": {},
   "outputs": [],
   "source": [
    "#evaluate the performance\n",
    "from sklearn import metrics\n",
    "y_pred = model.predict(test_x)\n",
    "metrics.accuracy_score(test_y, y_pred)\n",
    "fpr, tpr, thresholds = metrics.roc_curve(test_y, y_pred)\n",
    "metrics.auc(fpr, tpr)"
   ]
  },
  {
   "cell_type": "code",
   "execution_count": 210,
   "metadata": {},
   "outputs": [],
   "source": [
    "from sklearn.neural_network import MLPClassifier"
   ]
  },
  {
   "cell_type": "code",
   "execution_count": null,
   "metadata": {},
   "outputs": [],
   "source": [
    "from sklearn.neural_network import MLPClassifier\n",
    "#try a multi-layers classifier\n",
    "#my personal computer is very slow, it takes long time for training\n",
    "model = MLPClassifier()\n",
    "model.fit(train_x,train_y)"
   ]
  },
  {
   "cell_type": "code",
   "execution_count": null,
   "metadata": {},
   "outputs": [],
   "source": []
  }
 ],
 "metadata": {
  "kernelspec": {
   "display_name": "Python 3",
   "language": "python",
   "name": "python3"
  },
  "language_info": {
   "codemirror_mode": {
    "name": "ipython",
    "version": 3
   },
   "file_extension": ".py",
   "mimetype": "text/x-python",
   "name": "python",
   "nbconvert_exporter": "python",
   "pygments_lexer": "ipython3",
   "version": "3.5.3"
  }
 },
 "nbformat": 4,
 "nbformat_minor": 2
}
